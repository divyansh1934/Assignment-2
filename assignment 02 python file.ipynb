{
 "cells": [
  {
   "cell_type": "markdown",
   "id": "9144c279",
   "metadata": {},
   "source": [
    "#                                                   ASSIGNMENT 02 \n",
    "\n",
    " \n",
    "\n",
    "1.What are the two values of the Boolean data type? How do you write them? \n",
    "\n",
    "Ans 1.   The two values of Boolean data type are: True or False. \n",
    "\n",
    "         We write them by first word in Uppercase and rest in lowercase. \n",
    "\n",
    " \n",
    "\n",
    "2. What are the three different types of Boolean operators? \n",
    "\n",
    "Ans 2. The three types of Boolean operators are: and, or, not. \n",
    "\n",
    " \n",
    "\n",
    "3. Make a list of each Boolean operator’s  truth tables (i.e. every possible combination of Boolean \n",
    "\n",
    "values for the operator and what it evaluate ). \n",
    "\n",
    "Ans 3.   and operator:   \n",
    "\n",
    "  Input 1                            Input 2                           output \n",
    "\n",
    "  True                               True                              True\n",
    "\n",
    "  True                               False                             False\n",
    "\n",
    "  False                              True                              False\n",
    "\n",
    "  False                              False                             False \n",
    " \n",
    " \n",
    "Or operator: \n",
    "\n",
    " Input 1                             Input 2                           output \n",
    "\n",
    "  True                                True                              True \n",
    "\n",
    "  False                               True                              True \n",
    "\n",
    "  True                                False                             True \n",
    "  \n",
    "  False                               False                             False\n",
    "  \n",
    "  \n",
    "\n",
    "Not operator: \n",
    "\n",
    "  Input                              Output \n",
    "\n",
    "  True                               False \n",
    "\n",
    "  False                              True \n",
    "\n",
    "\n",
    "4. What are the values of the following expressions? \n",
    "\n",
    "(5>4) and (3 == 5) \n",
    "\n",
    "not (5 > 4) \n",
    "\n",
    "(5 > 4) or (3 == 5) \n",
    "\n",
    "not ((5 > 4) or (3 == 5)) \n",
    "\n",
    "(True and True) and (True == False) \n",
    "\n",
    "(not False) or (not True) \n",
    "\n",
    " \n",
    "\n",
    "Ans 4.   False \n",
    "\n",
    "         False \n",
    "\n",
    "         True \n",
    "\n",
    "         False \n",
    "\n",
    "         False \n",
    "\n",
    "         True \n",
    "\n",
    " \n",
    "\n",
    "5. What are the six comparison operators? \n",
    "\n",
    "Ans 6.  Six comparison operators are: \n",
    "\n",
    "  == :  Assignment operator   \n",
    "\n",
    "   != : Not equal to   \n",
    "\n",
    "  < : smaller than     \n",
    "\n",
    " >:  greater than \n",
    "\n",
    "<=  smaller than equal to \n",
    "\n",
    ">=  greater than equal to  \n",
    " \n",
    "\n",
    " \n",
    "\n",
    "7. Identify the three blocks in this code: \n",
    "\n",
    "spam = 0 \n",
    "\n",
    "if spam == 10: \n",
    "\n",
    "print(‘eggs’) \n",
    "\n",
    "if spam > 5: \n",
    "\n",
    "print (’bacon’) \n",
    "\n",
    "else: \n",
    "\n",
    "print(’ham’) \n",
    "\n",
    "print(’spam’) \n",
    "\n",
    "print(’spam’) \n",
    "\n",
    " \n",
    "Ans 7.  1st  and 2nd block contain if statement while third block contain print(‘ham’) and print(‘spam’).   \n",
    "\n",
    "\n",
    "9.If your programme is stuck in an endless loop, what keys you’ll press? \n",
    "\n",
    "Ans 9. We have to press CTRL-C to stop a program stuck in an infinite loop. \n",
    " \n",
    "\n",
    "11. In a for loop, what is the difference between range(10), range(0, 10), and range(0, 10, 1)? \n",
    "\n",
    "Ans 11.   range(10) : it will include elements starting from 0 till 9 (it will exclude 10), thereby calling every element between them. \n",
    "\n",
    "               Range(0, 10): it will tell the loop to start from 0. \n",
    "\n",
    "              Range(0,10,1): tells the loop to increase the variable by 1 on each iteration.\n",
    "   \n",
    "13. If you had a function named bacon() inside a module named spam, how would you call it after \n",
    "\n",
    "importing spam? \n",
    "\n",
    "Ans 13.  The function can be called using spam.bacon(). \n",
    "\n",
    " "
   ]
  },
  {
   "cell_type": "markdown",
   "id": "a2b731a8",
   "metadata": {},
   "source": [
    "6. How do you tell the difference between the equal to and assignment operators? Describe a \n",
    "\n",
    "condition and when you would use one. \n",
    "\n",
    "Ans 6.  Equal operator is used to compare one value with another and gives result. It is denoted by ==, while assignment operator is used to assign value to variable. It is denoted by =. \n",
    "\n",
    "  Eg:   \n",
    " "
   ]
  },
  {
   "cell_type": "code",
   "execution_count": 1,
   "id": "a7b7667c",
   "metadata": {},
   "outputs": [
    {
     "name": "stdout",
     "output_type": "stream",
     "text": [
      "False\n"
     ]
    }
   ],
   "source": [
    "a=10\n",
    "b=20\n",
    "if a==b:\n",
    "    print(\"True\")\n",
    "else:\n",
    "    print(\"False\")"
   ]
  },
  {
   "cell_type": "code",
   "execution_count": null,
   "id": "3fa5f950",
   "metadata": {},
   "outputs": [],
   "source": [
    "8. Write code that prints Hello if 1 is stored in spam, prints Howdy if 2 is stored in spam, and prints \n",
    "\n",
    "Greetings! if anything else is stored in spam. "
   ]
  },
  {
   "cell_type": "code",
   "execution_count": 2,
   "id": "9380e07a",
   "metadata": {},
   "outputs": [
    {
     "name": "stdout",
     "output_type": "stream",
     "text": [
      "Howdy\n"
     ]
    }
   ],
   "source": [
    "spam=2\n",
    "if spam==1:\n",
    "    print(\"Hello\")\n",
    "elif spam==2:\n",
    "    print(\"Howdy\")\n",
    "else:\n",
    "    print(\"Greetings!\")"
   ]
  },
  {
   "cell_type": "code",
   "execution_count": null,
   "id": "b3cb95c3",
   "metadata": {},
   "outputs": [],
   "source": [
    "10. How can you tell the difference between break and continue? \n",
    "\n",
    "Ans 10. The break statement is used to terminate the loop immediately. \n",
    "\n",
    "              When continue is used it skip the current iteration and moved to next one.  \n",
    "\n",
    "   Eg:"
   ]
  },
  {
   "cell_type": "code",
   "execution_count": 3,
   "id": "7b39f949",
   "metadata": {},
   "outputs": [
    {
     "name": "stdout",
     "output_type": "stream",
     "text": [
      "0\n",
      "1\n",
      "2\n"
     ]
    }
   ],
   "source": [
    "#break\n",
    "\n",
    "i=1\n",
    "for i in range(5):\n",
    "    if i==3:\n",
    "        break\n",
    "    print(i)"
   ]
  },
  {
   "cell_type": "code",
   "execution_count": 4,
   "id": "86bb55b7",
   "metadata": {},
   "outputs": [
    {
     "name": "stdout",
     "output_type": "stream",
     "text": [
      "0\n",
      "1\n",
      "2\n",
      "4\n"
     ]
    }
   ],
   "source": [
    "#continue\n",
    "\n",
    "i=1\n",
    "for i in range(5):\n",
    "    if i==3:\n",
    "        continue\n",
    "    print(i)"
   ]
  },
  {
   "cell_type": "code",
   "execution_count": null,
   "id": "6f8def4f",
   "metadata": {},
   "outputs": [],
   "source": [
    "12. Write a short program that prints the numbers 1 to 10 using a for loop. Then write an equivalent \n",
    "\n",
    "program that prints the numbers 1 to 10 using a while loop.  \n"
   ]
  },
  {
   "cell_type": "code",
   "execution_count": 5,
   "id": "b10a94cf",
   "metadata": {},
   "outputs": [
    {
     "name": "stdout",
     "output_type": "stream",
     "text": [
      "1\n",
      "2\n",
      "3\n",
      "4\n",
      "5\n",
      "6\n",
      "7\n",
      "8\n",
      "9\n",
      "10\n"
     ]
    }
   ],
   "source": [
    "#Using for loop\n",
    "for i in range(1,11):\n",
    "    print(i)"
   ]
  },
  {
   "cell_type": "code",
   "execution_count": 6,
   "id": "988609aa",
   "metadata": {},
   "outputs": [
    {
     "name": "stdout",
     "output_type": "stream",
     "text": [
      "1\n",
      "2\n",
      "3\n",
      "4\n",
      "5\n",
      "6\n",
      "7\n",
      "8\n",
      "9\n",
      "10\n"
     ]
    }
   ],
   "source": [
    "#Using while loop\n",
    "\n",
    "i=1\n",
    "while i!=11:\n",
    "    print(i)\n",
    "    i+=1\n",
    "    "
   ]
  },
  {
   "cell_type": "code",
   "execution_count": null,
   "id": "200eb224",
   "metadata": {},
   "outputs": [],
   "source": []
  }
 ],
 "metadata": {
  "kernelspec": {
   "display_name": "Python 3 (ipykernel)",
   "language": "python",
   "name": "python3"
  },
  "language_info": {
   "codemirror_mode": {
    "name": "ipython",
    "version": 3
   },
   "file_extension": ".py",
   "mimetype": "text/x-python",
   "name": "python",
   "nbconvert_exporter": "python",
   "pygments_lexer": "ipython3",
   "version": "3.10.9"
  }
 },
 "nbformat": 4,
 "nbformat_minor": 5
}
